{
 "cells": [
  {
   "cell_type": "code",
   "execution_count": 1,
   "id": "84d942fc",
   "metadata": {},
   "outputs": [],
   "source": [
    "from cogs import calculate_cogs_score\n",
    "from salaries import calculate_salary_score"
   ]
  },
  {
   "cell_type": "code",
   "execution_count": 3,
   "id": "741db6cd",
   "metadata": {},
   "outputs": [
    {
     "name": "stdout",
     "output_type": "stream",
     "text": [
      "ratio =  0.037  Salary Score =  0\n",
      "ratio =  0.037  COGS Score =  100\n"
     ]
    }
   ],
   "source": [
    "ratio = 0.037\n",
    "print(\"ratio = \", ratio, \" Salary Score = \",calculate_salary_score(ratio))\n",
    "print(\"ratio = \", ratio, \" COGS Score = \",calculate_cogs_score(ratio))"
   ]
  },
  {
   "cell_type": "code",
   "execution_count": null,
   "id": "526c8696",
   "metadata": {},
   "outputs": [],
   "source": []
  }
 ],
 "metadata": {
  "kernelspec": {
   "display_name": "Python 3 (ipykernel)",
   "language": "python",
   "name": "python3"
  },
  "language_info": {
   "codemirror_mode": {
    "name": "ipython",
    "version": 3
   },
   "file_extension": ".py",
   "mimetype": "text/x-python",
   "name": "python",
   "nbconvert_exporter": "python",
   "pygments_lexer": "ipython3",
   "version": "3.10.9"
  }
 },
 "nbformat": 4,
 "nbformat_minor": 5
}
